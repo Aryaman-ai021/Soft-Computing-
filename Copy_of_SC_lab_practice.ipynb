{
  "nbformat": 4,
  "nbformat_minor": 0,
  "metadata": {
    "colab": {
      "provenance": []
    },
    "kernelspec": {
      "name": "python3",
      "display_name": "Python 3"
    },
    "language_info": {
      "name": "python"
    }
  },
  "cells": [
    {
      "cell_type": "code",
      "source": [
        "#1\n",
        "import numpy as np\n",
        "\n",
        "A = np.array([0.2, 0.5, 0.9])\n",
        "R = np.array([[0.3, 0.7, 0.5],[0.8, 0.4, 0.6],[0.1, 0.9, 0.3]])\n",
        "\n",
        "result = np.zeros(R.shape[1])\n",
        "for j in range(R.shape[1]):\n",
        "    result[j] = max(np.minimum(A, R[:, j]))\n",
        "\n",
        "print(\"Max-min Composition result:\", result)\n"
      ],
      "metadata": {
        "colab": {
          "base_uri": "https://localhost:8080/"
        },
        "id": "jKrSTuBdyaKz",
        "outputId": "a013192d-ba84-4d96-80cf-0ad574662f4b"
      },
      "execution_count": null,
      "outputs": [
        {
          "output_type": "stream",
          "name": "stdout",
          "text": [
            "Max-min Composition result: [0.5 0.9 0.5]\n"
          ]
        }
      ]
    },
    {
      "cell_type": "code",
      "source": [
        "#2\n",
        "def centroid(x, mf):\n",
        "    return sum(x * mf) / sum(mf)\n",
        "\n",
        "x = np.linspace(0, 10, 100)\n",
        "mf = np.exp(-(x - 5)**2 / 4)\n",
        "print(\"Centroid (Defuzzified value):\", centroid(x, mf))\n",
        "\n",
        "\n",
        "def fuzzy_controller(temp):\n",
        "    if temp < 20:\n",
        "        return \"HEAT\"\n",
        "    elif 20 <= temp <= 25:\n",
        "        return \"MAINTAIN\"\n",
        "    else:\n",
        "        return \"COOL\"\n",
        "\n",
        "print(fuzzy_controller(18))\n",
        "print(fuzzy_controller(23))\n",
        "print(fuzzy_controller(30))\n"
      ],
      "metadata": {
        "colab": {
          "base_uri": "https://localhost:8080/"
        },
        "id": "BhHntiAR0Qpi",
        "outputId": "ad2cd293-1da2-4ed5-a1cf-3b3b380f9f7e"
      },
      "execution_count": null,
      "outputs": [
        {
          "output_type": "stream",
          "name": "stdout",
          "text": [
            "Centroid (Defuzzified value): 4.999999999999998\n",
            "HEAT\n",
            "MAINTAIN\n",
            "COOL\n"
          ]
        }
      ]
    },
    {
      "cell_type": "code",
      "source": [
        "#3\n",
        "import random\n",
        "\n",
        "def fitness(x):\n",
        "    return x**2\n",
        "\n",
        "population = [random.randint(0, 31) for _ in range(4)]\n",
        "\n",
        "for _ in range(5):  # generations\n",
        "    fitness_vals = [fitness(x) for x in population]\n",
        "    parents = sorted(zip(population, fitness_vals), key=lambda x: x[1], reverse=True)[:2]\n",
        "    offspring = [random.randint(0, 31) for _ in range(2)]\n",
        "    population = [p[0] for p in parents] + offspring\n",
        "\n",
        "print(\"Final Population:\", population)\n"
      ],
      "metadata": {
        "colab": {
          "base_uri": "https://localhost:8080/"
        },
        "id": "wWmBo5Nz0WDm",
        "outputId": "11f037ec-ca47-42ca-97ce-be64e593ba1a"
      },
      "execution_count": null,
      "outputs": [
        {
          "output_type": "stream",
          "name": "stdout",
          "text": [
            "Final Population: [29, 27, 28, 11]\n"
          ]
        }
      ]
    },
    {
      "cell_type": "code",
      "source": [
        "#4\n",
        "from multiprocessing import Pool\n",
        "\n",
        "def merge_sort(arr):\n",
        "    if len(arr) <= 1:\n",
        "        return arr\n",
        "    mid = len(arr)//2\n",
        "    left = merge_sort(arr[:mid])\n",
        "    right = merge_sort(arr[mid:])\n",
        "    return merge(left, right)\n",
        "\n",
        "def merge(left, right):\n",
        "    result = []\n",
        "    while left and right:\n",
        "        result.append(left.pop(0) if left[0] < right[0] else right.pop(0))\n",
        "    result += left or right\n",
        "    return result\n",
        "\n",
        "if __name__ == '__main__':\n",
        "    arr = [38, 27, 43, 3, 9, 82, 10]\n",
        "    print(\"Sorted array:\", merge_sort(arr))\n"
      ],
      "metadata": {
        "colab": {
          "base_uri": "https://localhost:8080/"
        },
        "id": "wjWUwoWS0byt",
        "outputId": "e94cb89c-47a0-4ed9-a4c7-10a523dbe6ae"
      },
      "execution_count": null,
      "outputs": [
        {
          "output_type": "stream",
          "name": "stdout",
          "text": [
            "Sorted array: [3, 9, 10, 27, 38, 43, 82]\n"
          ]
        }
      ]
    },
    {
      "cell_type": "code",
      "source": [
        "#5\n",
        "import numpy as np\n",
        "\n",
        "num_cities = 5\n",
        "pheromone = np.ones((num_cities, num_cities))\n",
        "distance = np.random.randint(1, 100, (num_cities, num_cities)).astype(float)\n",
        "np.fill_diagonal(distance, np.inf)\n",
        "\n",
        "for iteration in range(10):\n",
        "    for ant in range(5):\n",
        "        path = [0]\n",
        "        while len(path) < num_cities:\n",
        "            current = path[-1]\n",
        "            probs = pheromone[current] / distance[current]\n",
        "            probs[list(path)] = 0\n",
        "            next_city = np.argmax(probs)\n",
        "            path.append(next_city)\n",
        "        # Update pheromone\n",
        "        for i in range(len(path)-1):\n",
        "            pheromone[path[i]][path[i+1]] += 1.0 / distance[path[i]][path[i+1]]\n",
        "\n",
        "print(\"Final pheromone matrix:\\n\", pheromone)\n"
      ],
      "metadata": {
        "colab": {
          "base_uri": "https://localhost:8080/"
        },
        "id": "3pL7sA4p0dyt",
        "outputId": "c60e7ca4-59bf-45ce-ab9e-fea8f2ff0e47"
      },
      "execution_count": null,
      "outputs": [
        {
          "output_type": "stream",
          "name": "stdout",
          "text": [
            "Final pheromone matrix:\n",
            " [[1.         1.         4.57142857 1.         1.        ]\n",
            " [1.         1.         1.         2.42857143 1.        ]\n",
            " [1.         1.         1.         1.         8.14285714]\n",
            " [1.         1.         1.         1.         1.        ]\n",
            " [1.         2.11111111 1.         1.         1.        ]]\n"
          ]
        }
      ]
    },
    {
      "cell_type": "code",
      "source": [
        "#6\n",
        "import numpy as np\n",
        "\n",
        "def f(x):\n",
        "    return x**2 + 4*x + 4\n",
        "\n",
        "pos = np.random.uniform(-10, 10, 10)\n",
        "vel = np.zeros_like(pos)\n",
        "pbest = pos.copy()\n",
        "gbest = pos[np.argmin(f(pos))]\n",
        "\n",
        "for _ in range(50):\n",
        "    r1, r2 = np.random.rand(), np.random.rand()\n",
        "    vel = 0.5*vel + 0.8*r1*(pbest - pos) + 0.9*r2*(gbest - pos)\n",
        "    pos += vel\n",
        "    pbest = np.where(f(pos) < f(pbest), pos, pbest)\n",
        "    gbest = pbest[np.argmin(f(pbest))]\n",
        "\n",
        "print(\"Best solution found:\", gbest)\n"
      ],
      "metadata": {
        "colab": {
          "base_uri": "https://localhost:8080/"
        },
        "id": "1D81wpGO0fb2",
        "outputId": "cfc240f4-c09d-43b5-d256-33bae31350d2"
      },
      "execution_count": null,
      "outputs": [
        {
          "output_type": "stream",
          "name": "stdout",
          "text": [
            "Best solution found: -2.0000000065259216\n"
          ]
        }
      ]
    },
    {
      "cell_type": "code",
      "source": [
        "#7\n",
        "import numpy as np\n",
        "\n",
        "def obj(x):\n",
        "    return x**2 + 5*np.sin(x)\n",
        "\n",
        "wolves = np.random.uniform(-10, 10, 5)\n",
        "alpha = min(wolves, key=obj)\n",
        "\n",
        "for _ in range(20):\n",
        "    a = 2 - _ * (2/20)\n",
        "    for i in range(len(wolves)):\n",
        "        r1, r2 = np.random.rand(), np.random.rand()\n",
        "        A = 2 * a * r1 - a\n",
        "        C = 2 * r2\n",
        "        D = abs(C * alpha - wolves[i])\n",
        "        wolves[i] = alpha - A * D\n",
        "    alpha = min(wolves, key=obj)\n",
        "\n",
        "print(\"Best solution:\", alpha)\n"
      ],
      "metadata": {
        "colab": {
          "base_uri": "https://localhost:8080/"
        },
        "id": "6b1v-wKN0uNX",
        "outputId": "021fcd62-38a4-46bc-c800-9c2258a83125"
      },
      "execution_count": null,
      "outputs": [
        {
          "output_type": "stream",
          "name": "stdout",
          "text": [
            "Best solution: -1.1065361917681173\n"
          ]
        }
      ]
    },
    {
      "cell_type": "code",
      "source": [
        "# 8. Crisp partitions\n",
        "from sklearn.datasets import load_iris\n",
        "from sklearn.cluster import KMeans\n",
        "import matplotlib.pyplot as plt\n",
        "\n",
        "# Load real-life Iris dataset\n",
        "iris = load_iris()\n",
        "X = iris.data  # Features (sepal/petal length/width)\n",
        " # Actual species (not used in clustering)\n",
        "\n",
        "# Apply Crisp Partitioning using KMeans\n",
        "kmeans = KMeans(n_clusters=4, random_state=0)\n",
        "clusters = kmeans.fit_predict(X)  # Each point gets a hard cluster label\n",
        "\n",
        "# Print cluster assignments\n",
        "print(\"Cluster labels for each point:\", clusters)\n",
        "\n",
        "# Visualize clusters using two features: petal length and width\n",
        "plt.scatter(X[:, 2], X[:, 3], c=clusters)\n",
        "plt.title(\"Crisp Partitioning (K-Means) on Iris Dataset\")\n",
        "plt.xlabel(\"Petal Length\")\n",
        "plt.ylabel(\"Petal Width\")\n",
        "plt.show()\n"
      ],
      "metadata": {
        "colab": {
          "base_uri": "https://localhost:8080/",
          "height": 559
        },
        "id": "XW8Ox6LH0ws_",
        "outputId": "98c54517-840d-4402-b180-03c620839209"
      },
      "execution_count": 1,
      "outputs": [
        {
          "output_type": "stream",
          "name": "stdout",
          "text": [
            "Cluster labels for each point: [1 1 1 1 1 1 1 1 1 1 1 1 1 1 1 1 1 1 1 1 1 1 1 1 1 1 1 1 1 1 1 1 1 1 1 1 1\n",
            " 1 1 1 1 1 1 1 1 1 1 1 1 1 3 3 3 0 3 0 3 0 3 0 0 0 0 3 0 3 0 0 3 0 3 0 3 3\n",
            " 3 3 3 3 3 0 0 0 0 3 0 3 3 3 0 0 0 3 0 0 0 0 0 3 0 0 2 3 2 2 2 2 0 2 2 2 3\n",
            " 3 2 3 3 2 2 2 2 3 2 3 2 3 2 2 3 3 2 2 2 2 2 3 3 2 2 2 3 2 2 2 3 2 2 2 3 3\n",
            " 2 3]\n"
          ]
        },
        {
          "output_type": "display_data",
          "data": {
            "text/plain": [
              "<Figure size 640x480 with 1 Axes>"
            ],
            "image/png": "[encoded data removed]"
          },
          "metadata": {}
        }
      ]
    },
    {
      "cell_type": "code",
      "source": [
        "import numpy as np\n",
        "\n",
        "# Input and output data (AND gate)\n",
        "X = np.array([\n",
        "    [0, 0],\n",
        "    [0, 1],\n",
        "    [1, 0],\n",
        "    [1, 1]\n",
        "])\n",
        "y = np.array([0, 0, 0, 1])\n",
        "\n",
        "# === Hebb's Rule ===\n",
        "hebb_weights = np.zeros(X.shape[1])\n",
        "hebb_bias = 0\n",
        "learning_rate = 0.1\n",
        "epochs = 5\n",
        "\n",
        "for epoch in range(epochs):\n",
        "    for inputs, target in zip(X, y):\n",
        "        hebb_weights += learning_rate * inputs * target\n",
        "        hebb_bias += learning_rate * target\n",
        "\n",
        "print(\"=== Hebb's Rule ===\")\n",
        "print(\"Weights:\", hebb_weights)\n",
        "print(\"Bias:\", hebb_bias)\n",
        "\n",
        "# === Delta Rule (Perceptron Learning) ===\n",
        "delta_weights = np.zeros(X.shape[1])\n",
        "delta_bias = 0\n",
        "\n",
        "for epoch in range(epochs):\n",
        "    for inputs, target in zip(X, y):\n",
        "        output = np.dot(inputs, delta_weights) + delta_bias\n",
        "        prediction = 1 if output >= 0 else 0  # Step function\n",
        "        error = target - prediction\n",
        "        delta_weights += learning_rate * error * inputs\n",
        "        delta_bias += learning_rate * error\n",
        "\n",
        "print(\"\\n=== Delta Rule ===\")\n",
        "print(\"Weights:\", delta_weights)\n",
        "print(\"Bias:\", delta_bias)\n"
      ],
      "metadata": {
        "colab": {
          "base_uri": "https://localhost:8080/"
        },
        "id": "UkTSSkfR0yY_",
        "outputId": "34f875be-f8d5-4d03-e9c1-a36a4c04d255"
      },
      "execution_count": 2,
      "outputs": [
        {
          "output_type": "stream",
          "name": "stdout",
          "text": [
            "=== Hebb's Rule ===\n",
            "Weights: [0.5 0.5]\n",
            "Bias: 0.5\n",
            "\n",
            "=== Delta Rule ===\n",
            "Weights: [0.2 0.1]\n",
            "Bias: -0.20000000000000004\n"
          ]
        }
      ]
    },
    {
      "cell_type": "code",
      "source": [
        "#10\n",
        "from sklearn.datasets import load_iris\n",
        "from sklearn.model_selection import train_test_split\n",
        "from sklearn.ensemble import VotingClassifier\n",
        "from sklearn.linear_model import LogisticRegression\n",
        "from sklearn.naive_bayes import GaussianNB\n",
        "from sklearn.tree import DecisionTreeClassifier\n",
        "\n",
        "X, y = load_iris(return_X_y=True)\n",
        "X_train, X_test, y_train, y_test = train_test_split(X, y, test_size=0.3)\n",
        "\n",
        "clf1 = LogisticRegression()\n",
        "clf2 = GaussianNB()\n",
        "clf3 = DecisionTreeClassifier()\n",
        "\n",
        "ensemble = VotingClassifier(estimators=[\n",
        "    ('lr', clf1), ('nb', clf2), ('dt', clf3)],\n",
        "    voting='hard')\n",
        "\n",
        "ensemble.fit(X_train, y_train)\n",
        "print(\"Accuracy:\", ensemble.score(X_test, y_test))\n"
      ],
      "metadata": {
        "colab": {
          "base_uri": "https://localhost:8080/"
        },
        "id": "5ydpGa3G00p9",
        "outputId": "65708ad8-ab1b-48a6-fc0a-f5e8e8e3876e"
      },
      "execution_count": null,
      "outputs": [
        {
          "output_type": "stream",
          "name": "stdout",
          "text": [
            "Accuracy: 0.9555555555555556\n"
          ]
        }
      ]
    },
    {
      "cell_type": "code",
      "source": [],
      "metadata": {
        "id": "acRjjuzC02r7"
      },
      "execution_count": null,
      "outputs": []
    }
  ]
}